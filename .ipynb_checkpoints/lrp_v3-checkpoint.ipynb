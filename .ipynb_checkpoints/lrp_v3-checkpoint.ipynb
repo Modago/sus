{
 "cells": [
  {
   "cell_type": "markdown",
   "metadata": {},
   "source": [
    "# Usability test of a Web-based AR App"
   ]
  },
  {
   "cell_type": "code",
   "execution_count": 2,
   "metadata": {},
   "outputs": [],
   "source": [
    "# Importing the required libraries\n",
    "import numpy as np\n",
    "import pandas as pd\n",
    "import seaborn as sns\n",
    "import pingouin as pg\n",
    "import matplotlib.pyplot as plt\n",
    "\n",
    "%matplotlib inline"
   ]
  },
  {
   "cell_type": "code",
   "execution_count": 3,
   "metadata": {},
   "outputs": [
    {
     "data": {
      "text/html": [
       "<div>\n",
       "<style scoped>\n",
       "    .dataframe tbody tr th:only-of-type {\n",
       "        vertical-align: middle;\n",
       "    }\n",
       "\n",
       "    .dataframe tbody tr th {\n",
       "        vertical-align: top;\n",
       "    }\n",
       "\n",
       "    .dataframe thead th {\n",
       "        text-align: right;\n",
       "    }\n",
       "</style>\n",
       "<table border=\"1\" class=\"dataframe\">\n",
       "  <thead>\n",
       "    <tr style=\"text-align: right;\">\n",
       "      <th></th>\n",
       "      <th>Sukupuoli</th>\n",
       "      <th>Ikä</th>\n",
       "      <th>Siviilisääty</th>\n",
       "      <th>Koulutus</th>\n",
       "      <th>SUS1</th>\n",
       "      <th>SUS2</th>\n",
       "      <th>SUS3</th>\n",
       "      <th>SUS4</th>\n",
       "      <th>SUS5</th>\n",
       "      <th>SUS6</th>\n",
       "      <th>SUS7</th>\n",
       "      <th>SUS8</th>\n",
       "      <th>SUS9</th>\n",
       "      <th>SUS10</th>\n",
       "      <th>ARS</th>\n",
       "      <th>Oletko käyttänyt jotain AR-sovellusta aiemmin?</th>\n",
       "      <th>Kuinka tämän AR-sovelluksen käyttö oli verrattavissa muihin käyttämiisi AR -sovelluksiin?</th>\n",
       "      <th>Oletko fyysisesti aktiivinen säännöllisesti? (Liikut, harjoittelet tai urheilet säännöllisesti)</th>\n",
       "      <th>Kuinka monta tuntia olet fyysisesti aktiivinen viikoittain?: Tuntia</th>\n",
       "    </tr>\n",
       "  </thead>\n",
       "  <tbody>\n",
       "    <tr>\n",
       "      <th>0</th>\n",
       "      <td>Female</td>\n",
       "      <td>41-50 v</td>\n",
       "      <td>Naimisissa</td>\n",
       "      <td>Ammattilainen tutkinto</td>\n",
       "      <td>5</td>\n",
       "      <td>2</td>\n",
       "      <td>5</td>\n",
       "      <td>2</td>\n",
       "      <td>5</td>\n",
       "      <td>2</td>\n",
       "      <td>5</td>\n",
       "      <td>1</td>\n",
       "      <td>5</td>\n",
       "      <td>2</td>\n",
       "      <td>7</td>\n",
       "      <td>Ei</td>\n",
       "      <td>NaN</td>\n",
       "      <td>Kyllä</td>\n",
       "      <td>3</td>\n",
       "    </tr>\n",
       "    <tr>\n",
       "      <th>1</th>\n",
       "      <td>Male</td>\n",
       "      <td>31-40 v</td>\n",
       "      <td>Naimaton/Sinkku</td>\n",
       "      <td>Korkeakoulututkinto</td>\n",
       "      <td>5</td>\n",
       "      <td>1</td>\n",
       "      <td>5</td>\n",
       "      <td>1</td>\n",
       "      <td>4</td>\n",
       "      <td>1</td>\n",
       "      <td>5</td>\n",
       "      <td>1</td>\n",
       "      <td>4</td>\n",
       "      <td>3</td>\n",
       "      <td>5</td>\n",
       "      <td>Kyllä</td>\n",
       "      <td>NaN</td>\n",
       "      <td>Kyllä</td>\n",
       "      <td>3</td>\n",
       "    </tr>\n",
       "    <tr>\n",
       "      <th>2</th>\n",
       "      <td>Male</td>\n",
       "      <td>Utmost 20 v</td>\n",
       "      <td>Naimaton/Sinkku</td>\n",
       "      <td>Peruskoulu</td>\n",
       "      <td>4</td>\n",
       "      <td>4</td>\n",
       "      <td>1</td>\n",
       "      <td>1</td>\n",
       "      <td>4</td>\n",
       "      <td>5</td>\n",
       "      <td>4</td>\n",
       "      <td>4</td>\n",
       "      <td>1</td>\n",
       "      <td>4</td>\n",
       "      <td>4</td>\n",
       "      <td>Ei</td>\n",
       "      <td>NaN</td>\n",
       "      <td>Kyllä</td>\n",
       "      <td>20</td>\n",
       "    </tr>\n",
       "    <tr>\n",
       "      <th>3</th>\n",
       "      <td>Female</td>\n",
       "      <td>41-50 v</td>\n",
       "      <td>Naimisissa</td>\n",
       "      <td>Korkeakoulututkinto</td>\n",
       "      <td>2</td>\n",
       "      <td>4</td>\n",
       "      <td>3</td>\n",
       "      <td>1</td>\n",
       "      <td>3</td>\n",
       "      <td>3</td>\n",
       "      <td>5</td>\n",
       "      <td>1</td>\n",
       "      <td>5</td>\n",
       "      <td>1</td>\n",
       "      <td>3</td>\n",
       "      <td>Ei</td>\n",
       "      <td>NaN</td>\n",
       "      <td>Kyllä</td>\n",
       "      <td>5.Jul</td>\n",
       "    </tr>\n",
       "    <tr>\n",
       "      <th>4</th>\n",
       "      <td>Male</td>\n",
       "      <td>61+ v</td>\n",
       "      <td>Naimisissa</td>\n",
       "      <td>Korkeakoulututkinto</td>\n",
       "      <td>3</td>\n",
       "      <td>2</td>\n",
       "      <td>4</td>\n",
       "      <td>1</td>\n",
       "      <td>4</td>\n",
       "      <td>2</td>\n",
       "      <td>4</td>\n",
       "      <td>2</td>\n",
       "      <td>4</td>\n",
       "      <td>1</td>\n",
       "      <td>7</td>\n",
       "      <td>Ei</td>\n",
       "      <td>NaN</td>\n",
       "      <td>Ei</td>\n",
       "      <td>14</td>\n",
       "    </tr>\n",
       "  </tbody>\n",
       "</table>\n",
       "</div>"
      ],
      "text/plain": [
       "  Sukupuoli          Ikä     Siviilisääty                Koulutus  SUS1  SUS2  \\\n",
       "0    Female      41-50 v       Naimisissa  Ammattilainen tutkinto     5     2   \n",
       "1      Male      31-40 v  Naimaton/Sinkku     Korkeakoulututkinto     5     1   \n",
       "2      Male  Utmost 20 v  Naimaton/Sinkku              Peruskoulu     4     4   \n",
       "3    Female      41-50 v       Naimisissa     Korkeakoulututkinto     2     4   \n",
       "4      Male        61+ v       Naimisissa     Korkeakoulututkinto     3     2   \n",
       "\n",
       "   SUS3  SUS4  SUS5  SUS6  SUS7  SUS8  SUS9  SUS10  ARS  \\\n",
       "0     5     2     5     2     5     1     5      2    7   \n",
       "1     5     1     4     1     5     1     4      3    5   \n",
       "2     1     1     4     5     4     4     1      4    4   \n",
       "3     3     1     3     3     5     1     5      1    3   \n",
       "4     4     1     4     2     4     2     4      1    7   \n",
       "\n",
       "  Oletko käyttänyt jotain AR-sovellusta aiemmin?  \\\n",
       "0                                             Ei   \n",
       "1                                          Kyllä   \n",
       "2                                             Ei   \n",
       "3                                             Ei   \n",
       "4                                             Ei   \n",
       "\n",
       "  Kuinka tämän AR-sovelluksen käyttö oli verrattavissa muihin käyttämiisi AR -sovelluksiin?  \\\n",
       "0                                                NaN                                          \n",
       "1                                                NaN                                          \n",
       "2                                                NaN                                          \n",
       "3                                                NaN                                          \n",
       "4                                                NaN                                          \n",
       "\n",
       "  Oletko fyysisesti aktiivinen säännöllisesti? (Liikut, harjoittelet tai urheilet säännöllisesti)  \\\n",
       "0                                              Kyllä                                                \n",
       "1                                              Kyllä                                                \n",
       "2                                              Kyllä                                                \n",
       "3                                              Kyllä                                                \n",
       "4                                                 Ei                                                \n",
       "\n",
       "  Kuinka monta tuntia olet fyysisesti aktiivinen viikoittain?: Tuntia  \n",
       "0                                                  3                   \n",
       "1                                                  3                   \n",
       "2                                                 20                   \n",
       "3                                              5.Jul                   \n",
       "4                                                 14                   "
      ]
     },
     "execution_count": 3,
     "metadata": {},
     "output_type": "execute_result"
    }
   ],
   "source": [
    "# Read CSV file with he responses\n",
    "data = pd.read_csv('lrp_v2.csv', sep=';')\n",
    "\n",
    "# Make a copy.\n",
    "data_copy = data.copy()\n",
    "data_copy.head()"
   ]
  },
  {
   "cell_type": "markdown",
   "metadata": {},
   "source": [
    "## Calculating SUS Scores\n",
    "To calculate the SUS score, first sum the score contributions from each item. Each item's score contribution will range from 0 to 4. For items 1,3,5,7 and 9, the score contribution is the scale position minus 1. For items 2,4,6,8 and 10, the contribution is 5 minus the scale position. Multiply the sum of the scores by 2.5 to obtain the overall value of SUS. SUS scores have a range of 0 to 100, where the higher the value, the higher level of usability.\n",
    "\n",
    "Brooke, J. (1996). SUS - A quick and dirty usability scale. Usability evaluation in industry, 189(194), 4-7"
   ]
  },
  {
   "cell_type": "code",
   "execution_count": 4,
   "metadata": {},
   "outputs": [
    {
     "name": "stdout",
     "output_type": "stream",
     "text": [
      "90.0\n",
      "90.0\n",
      "40.0\n",
      "70.0\n",
      "77.5\n",
      "82.5\n",
      "27.5\n",
      "100.0\n",
      "80.0\n",
      "27.5\n",
      "80.0\n",
      "52.5\n",
      "80.0\n"
     ]
    }
   ],
   "source": [
    "# Create a list to store the data\n",
    "sus = []\n",
    "\n",
    "# For each row in the column,\n",
    "for index, row in data_copy.iterrows():\n",
    "    odd = (row['SUS1'] + row['SUS3'] + row['SUS5'] + row['SUS7'] + row['SUS9']) - 5\n",
    "    even = 25 - (row['SUS2'] + row['SUS4'] + row['SUS6'] + row['SUS8'] + row['SUS10'])\n",
    "    sus_scores = (odd + even) * 2.5\n",
    "    sus.append(sus_scores)\n",
    "    print(sus_scores)"
   ]
  },
  {
   "cell_type": "code",
   "execution_count": 7,
   "metadata": {},
   "outputs": [],
   "source": [
    "# Add the SUS scores column to the dataframe\n",
    "data_copy['SUS Scores'] = sus"
   ]
  },
  {
   "cell_type": "code",
   "execution_count": 8,
   "metadata": {},
   "outputs": [],
   "source": [
    "# Rename the ARS column\n",
    "data_copy.rename(columns = {'ARS': 'Adjective Rating'}, inplace = True)\n",
    "#data_copy"
   ]
  },
  {
   "cell_type": "code",
   "execution_count": 9,
   "metadata": {},
   "outputs": [
    {
     "data": {
      "text/plain": [
       "count     13.00\n",
       "mean      69.04\n",
       "std       24.19\n",
       "min       27.50\n",
       "25%       52.50\n",
       "50%       80.00\n",
       "75%       82.50\n",
       "max      100.00\n",
       "Name: SUS Scores, dtype: float64"
      ]
     },
     "execution_count": 9,
     "metadata": {},
     "output_type": "execute_result"
    }
   ],
   "source": [
    "# Summary statistics for the SUS scores\n",
    "data_copy['SUS Scores'].describe().round(2)"
   ]
  },
  {
   "cell_type": "code",
   "execution_count": 10,
   "metadata": {},
   "outputs": [
    {
     "data": {
      "text/plain": [
       "count    13.00\n",
       "mean      4.69\n",
       "std       1.89\n",
       "min       1.00\n",
       "25%       4.00\n",
       "50%       4.00\n",
       "75%       7.00\n",
       "max       7.00\n",
       "Name: Adjective Rating, dtype: float64"
      ]
     },
     "execution_count": 10,
     "metadata": {},
     "output_type": "execute_result"
    }
   ],
   "source": [
    "# Summary statistics for the Adjective Rating Scale \n",
    "data_copy['Adjective Rating'].describe().round(2)"
   ]
  },
  {
   "cell_type": "markdown",
   "metadata": {},
   "source": [
    "## Correlation\n",
    "Calculating the correlation between SUS Scores and the adjective rating scale - a correlational analysis to reveal how well the SUS scores match with the adjective rating scale as describe in [Bangor, Kortum and Miller (2009)](https://uxpajournal.org/determining-what-individual-sus-scores-mean-adding-an-adjective-rating-scale/). "
   ]
  },
  {
   "cell_type": "code",
   "execution_count": 15,
   "metadata": {},
   "outputs": [
    {
     "data": {
      "text/html": [
       "<div>\n",
       "<style scoped>\n",
       "    .dataframe tbody tr th:only-of-type {\n",
       "        vertical-align: middle;\n",
       "    }\n",
       "\n",
       "    .dataframe tbody tr th {\n",
       "        vertical-align: top;\n",
       "    }\n",
       "\n",
       "    .dataframe thead th {\n",
       "        text-align: right;\n",
       "    }\n",
       "</style>\n",
       "<table border=\"1\" class=\"dataframe\">\n",
       "  <thead>\n",
       "    <tr style=\"text-align: right;\">\n",
       "      <th></th>\n",
       "      <th>n</th>\n",
       "      <th>r</th>\n",
       "      <th>CI95%</th>\n",
       "      <th>r2</th>\n",
       "      <th>adj_r2</th>\n",
       "      <th>p-val</th>\n",
       "      <th>BF10</th>\n",
       "      <th>power</th>\n",
       "    </tr>\n",
       "  </thead>\n",
       "  <tbody>\n",
       "    <tr>\n",
       "      <th>pearson</th>\n",
       "      <td>13</td>\n",
       "      <td>0.755</td>\n",
       "      <td>[0.35, 0.92]</td>\n",
       "      <td>0.57</td>\n",
       "      <td>0.484</td>\n",
       "      <td>0.003</td>\n",
       "      <td>18.537</td>\n",
       "      <td>0.893</td>\n",
       "    </tr>\n",
       "  </tbody>\n",
       "</table>\n",
       "</div>"
      ],
      "text/plain": [
       "          n      r         CI95%    r2  adj_r2  p-val    BF10  power\n",
       "pearson  13  0.755  [0.35, 0.92]  0.57   0.484  0.003  18.537  0.893"
      ]
     },
     "execution_count": 15,
     "metadata": {},
     "output_type": "execute_result"
    }
   ],
   "source": [
    "# Calculating the correlation between SUS Scores and the Adjective Rating Scale\n",
    "pg.corr(x=data_copy['SUS Scores'], y=data_copy['Adjective Rating'], method='spearman').round(3)"
   ]
  },
  {
   "cell_type": "markdown",
   "metadata": {},
   "source": [
    "The results are inline with earlier findings showing a positive correlation between the SUS scores and the adjective rating scale (r = 0.75). "
   ]
  },
  {
   "cell_type": "code",
   "execution_count": 21,
   "metadata": {},
   "outputs": [
    {
     "data": {
      "text/plain": [
       "<AxesSubplot:xlabel='SUS Scores', ylabel='Adjective Rating'>"
      ]
     },
     "execution_count": 21,
     "metadata": {},
     "output_type": "execute_result"
    },
    {
     "data": {
      "image/png": "[encoded data removed]",
      "text/plain": [
       "<Figure size 432x288 with 1 Axes>"
      ]
     },
     "metadata": {},
     "output_type": "display_data"
    }
   ],
   "source": [
    "# Plotting with 95% CI and the regression line extended to the axis limits\n",
    "sns.set(style=\"whitegrid\")\n",
    "sns.regplot(x=\"SUS Scores\",\n",
    "            y=\"Adjective Rating\",\n",
    "            data=data_copy,\n",
    "            ci=95,\n",
    "            truncate=False)"
   ]
  },
  {
   "cell_type": "markdown",
   "metadata": {},
   "source": [
    "## Total Downloads\n",
    "The total number of times the application was accessed at each checkpoint."
   ]
  },
  {
   "cell_type": "code",
   "execution_count": 5,
   "metadata": {},
   "outputs": [
    {
     "data": {
      "text/html": [
       "<div>\n",
       "<style scoped>\n",
       "    .dataframe tbody tr th:only-of-type {\n",
       "        vertical-align: middle;\n",
       "    }\n",
       "\n",
       "    .dataframe tbody tr th {\n",
       "        vertical-align: top;\n",
       "    }\n",
       "\n",
       "    .dataframe thead th {\n",
       "        text-align: right;\n",
       "    }\n",
       "</style>\n",
       "<table border=\"1\" class=\"dataframe\">\n",
       "  <thead>\n",
       "    <tr style=\"text-align: right;\">\n",
       "      <th></th>\n",
       "      <th>Checkpoint</th>\n",
       "      <th>Downloads</th>\n",
       "    </tr>\n",
       "  </thead>\n",
       "  <tbody>\n",
       "    <tr>\n",
       "      <th>0</th>\n",
       "      <td>1</td>\n",
       "      <td>22</td>\n",
       "    </tr>\n",
       "    <tr>\n",
       "      <th>1</th>\n",
       "      <td>2</td>\n",
       "      <td>24</td>\n",
       "    </tr>\n",
       "    <tr>\n",
       "      <th>2</th>\n",
       "      <td>3</td>\n",
       "      <td>29</td>\n",
       "    </tr>\n",
       "    <tr>\n",
       "      <th>3</th>\n",
       "      <td>4</td>\n",
       "      <td>33</td>\n",
       "    </tr>\n",
       "    <tr>\n",
       "      <th>4</th>\n",
       "      <td>5</td>\n",
       "      <td>29</td>\n",
       "    </tr>\n",
       "  </tbody>\n",
       "</table>\n",
       "</div>"
      ],
      "text/plain": [
       "   Checkpoint  Downloads\n",
       "0           1         22\n",
       "1           2         24\n",
       "2           3         29\n",
       "3           4         33\n",
       "4           5         29"
      ]
     },
     "execution_count": 5,
     "metadata": {},
     "output_type": "execute_result"
    }
   ],
   "source": [
    "# Read CSV file with he responses\n",
    "games = pd.read_csv('data1.csv', sep=';')\n",
    "\n",
    "# Make a copy \n",
    "games_copy = games.copy()\n",
    "games_copy.head()"
   ]
  },
  {
   "cell_type": "code",
   "execution_count": 20,
   "metadata": {},
   "outputs": [
    {
     "data": {
      "image/png": "[encoded data removed]",
      "text/plain": [
       "<Figure size 432x288 with 1 Axes>"
      ]
     },
     "metadata": {
      "needs_background": "light"
     },
     "output_type": "display_data"
    }
   ],
   "source": [
    "# Line chart pandas\n",
    "games_copy.plot( x='Checkpoint', y='Downloads', kind='line', color='blue', marker='o')\n",
    "plt.title('Checkpoints vs Downloads', fontsize=14)\n",
    "plt.xlabel('Checkpoint', fontsize=14)\n",
    "plt.ylabel('Downloads', fontsize=14)\n",
    "plt.grid(True)\n",
    "plt.show()\n",
    "\n"
   ]
  },
  {
   "cell_type": "markdown",
   "metadata": {},
   "source": [
    "## Participants and Tasks\n",
    "The information below presents the number of tasks (representing checkpoints visited) each of the 65 participants who took part in the raffle completed."
   ]
  },
  {
   "cell_type": "code",
   "execution_count": 7,
   "metadata": {},
   "outputs": [
    {
     "data": {
      "text/html": [
       "<div>\n",
       "<style scoped>\n",
       "    .dataframe tbody tr th:only-of-type {\n",
       "        vertical-align: middle;\n",
       "    }\n",
       "\n",
       "    .dataframe tbody tr th {\n",
       "        vertical-align: top;\n",
       "    }\n",
       "\n",
       "    .dataframe thead th {\n",
       "        text-align: right;\n",
       "    }\n",
       "</style>\n",
       "<table border=\"1\" class=\"dataframe\">\n",
       "  <thead>\n",
       "    <tr style=\"text-align: right;\">\n",
       "      <th></th>\n",
       "      <th>Participants</th>\n",
       "      <th>Tasks Completed</th>\n",
       "    </tr>\n",
       "  </thead>\n",
       "  <tbody>\n",
       "    <tr>\n",
       "      <th>0</th>\n",
       "      <td>1</td>\n",
       "      <td>6</td>\n",
       "    </tr>\n",
       "    <tr>\n",
       "      <th>1</th>\n",
       "      <td>2</td>\n",
       "      <td>6</td>\n",
       "    </tr>\n",
       "    <tr>\n",
       "      <th>2</th>\n",
       "      <td>3</td>\n",
       "      <td>6</td>\n",
       "    </tr>\n",
       "    <tr>\n",
       "      <th>3</th>\n",
       "      <td>4</td>\n",
       "      <td>6</td>\n",
       "    </tr>\n",
       "    <tr>\n",
       "      <th>4</th>\n",
       "      <td>5</td>\n",
       "      <td>7</td>\n",
       "    </tr>\n",
       "  </tbody>\n",
       "</table>\n",
       "</div>"
      ],
      "text/plain": [
       "   Participants  Tasks Completed\n",
       "0             1                6\n",
       "1             2                6\n",
       "2             3                6\n",
       "3             4                6\n",
       "4             5                7"
      ]
     },
     "execution_count": 7,
     "metadata": {},
     "output_type": "execute_result"
    }
   ],
   "source": [
    "# Read CSV file \n",
    "games = pd.read_csv('part-tasks.csv', sep=';')\n",
    "\n",
    "# Make a copy.\n",
    "parts_copy = games.copy()\n",
    "parts_copy.head()"
   ]
  },
  {
   "cell_type": "code",
   "execution_count": 8,
   "metadata": {},
   "outputs": [
    {
     "data": {
      "image/png": "[encoded data removed]",
      "text/plain": [
       "<Figure size 432x288 with 1 Axes>"
      ]
     },
     "metadata": {
      "needs_background": "light"
     },
     "output_type": "display_data"
    }
   ],
   "source": [
    "# Pandas plot\n",
    "# Line chart pandas\n",
    "parts_copy.plot(x='Participants', y='Tasks Completed', kind='line', color='blue', marker='o')\n",
    "plt.title('Number of tasks completed', fontsize=16)\n",
    "plt.xlabel('Participants', fontsize=14)\n",
    "plt.ylabel('Tasks', fontsize=14)\n",
    "plt.grid(True)\n",
    "plt.show()"
   ]
  },
  {
   "cell_type": "markdown",
   "metadata": {},
   "source": [
    "## Total Downloads vs Number of Tasks Completed\n",
    "The information below compares the number of times the application was accessed at each location to the number of tasks completed by the participants who participated in the raffle."
   ]
  },
  {
   "cell_type": "code",
   "execution_count": 9,
   "metadata": {},
   "outputs": [
    {
     "data": {
      "text/html": [
       "<div>\n",
       "<style scoped>\n",
       "    .dataframe tbody tr th:only-of-type {\n",
       "        vertical-align: middle;\n",
       "    }\n",
       "\n",
       "    .dataframe tbody tr th {\n",
       "        vertical-align: top;\n",
       "    }\n",
       "\n",
       "    .dataframe thead th {\n",
       "        text-align: right;\n",
       "    }\n",
       "</style>\n",
       "<table border=\"1\" class=\"dataframe\">\n",
       "  <thead>\n",
       "    <tr style=\"text-align: right;\">\n",
       "      <th></th>\n",
       "      <th>Downloads</th>\n",
       "      <th>Returned</th>\n",
       "    </tr>\n",
       "    <tr>\n",
       "      <th>Checkpoint</th>\n",
       "      <th></th>\n",
       "      <th></th>\n",
       "    </tr>\n",
       "  </thead>\n",
       "  <tbody>\n",
       "    <tr>\n",
       "      <th>1</th>\n",
       "      <td>22</td>\n",
       "      <td>6</td>\n",
       "    </tr>\n",
       "    <tr>\n",
       "      <th>2</th>\n",
       "      <td>24</td>\n",
       "      <td>12</td>\n",
       "    </tr>\n",
       "    <tr>\n",
       "      <th>3</th>\n",
       "      <td>29</td>\n",
       "      <td>13</td>\n",
       "    </tr>\n",
       "    <tr>\n",
       "      <th>4</th>\n",
       "      <td>33</td>\n",
       "      <td>33</td>\n",
       "    </tr>\n",
       "    <tr>\n",
       "      <th>5</th>\n",
       "      <td>29</td>\n",
       "      <td>24</td>\n",
       "    </tr>\n",
       "  </tbody>\n",
       "</table>\n",
       "</div>"
      ],
      "text/plain": [
       "            Downloads  Returned\n",
       "Checkpoint                     \n",
       "1                  22         6\n",
       "2                  24        12\n",
       "3                  29        13\n",
       "4                  33        33\n",
       "5                  29        24"
      ]
     },
     "execution_count": 9,
     "metadata": {},
     "output_type": "execute_result"
    }
   ],
   "source": [
    "# Read CSV file \n",
    "tasks = pd.read_csv('data2.tsv', sep='\\t', header=0, index_col =\"Checkpoint\")\n",
    "\n",
    "# Make a copy.\n",
    "tasks_copy = tasks.copy()\n",
    "tasks_copy.head()"
   ]
  },
  {
   "cell_type": "code",
   "execution_count": 10,
   "metadata": {},
   "outputs": [
    {
     "data": {
      "image/png": "[encoded data removed]",
      "text/plain": [
       "<Figure size 432x288 with 1 Axes>"
      ]
     },
     "metadata": {
      "needs_background": "light"
     },
     "output_type": "display_data"
    }
   ],
   "source": [
    "# Line chart pandas\n",
    "tasks.plot(marker='o')\n",
    "plt.title('Total Downloads vs. Completed Tasks', fontsize=16)\n",
    "plt.xlabel('Checkpoints', fontsize=14)\n",
    "plt.ylabel('Downloads', fontsize=14)\n",
    "plt.grid(True)\n",
    "plt.show()"
   ]
  },
  {
   "cell_type": "code",
   "execution_count": null,
   "metadata": {},
   "outputs": [],
   "source": []
  }
 ],
 "metadata": {
  "kernelspec": {
   "display_name": "Python 3",
   "language": "python",
   "name": "python3"
  },
  "language_info": {
   "codemirror_mode": {
    "name": "ipython",
    "version": 3
   },
   "file_extension": ".py",
   "mimetype": "text/x-python",
   "name": "python",
   "nbconvert_exporter": "python",
   "pygments_lexer": "ipython3",
   "version": "3.8.10"
  }
 },
 "nbformat": 4,
 "nbformat_minor": 4
}
